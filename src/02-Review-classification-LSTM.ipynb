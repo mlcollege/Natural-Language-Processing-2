{
  "nbformat": 4,
  "nbformat_minor": 0,
  "metadata": {
    "kernelspec": {
      "display_name": "Python 3",
      "language": "python",
      "name": "python3"
    },
    "language_info": {
      "codemirror_mode": {
        "name": "ipython",
        "version": 3
      },
      "file_extension": ".py",
      "mimetype": "text/x-python",
      "name": "python",
      "nbconvert_exporter": "python",
      "pygments_lexer": "ipython3",
      "version": "3.5.2"
    },
    "colab": {
      "name": "06-Review-classification-LSTM.ipynb",
      "provenance": []
    },
    "accelerator": "GPU"
  },
  "cells": [
    {
      "cell_type": "markdown",
      "metadata": {
        "id": "D2G72AoRPWf_"
      },
      "source": [
        "# Travel agency's reviews - classification using LSTM\n",
        "\n",
        "Implement and evaluate a classifier of user reviews using LSTM."
      ]
    },
    {
      "cell_type": "code",
      "metadata": {
        "id": "h1FP7beWPWgE",
        "outputId": "961f2475-56b2-4cef-e565-5110d3ef3236",
        "colab": {
          "base_uri": "https://localhost:8080/",
          "height": 359
        }
      },
      "source": [
        "import pandas as pd\n",
        "\n",
        "reviews = pd.read_csv('https://raw.githubusercontent.com/mlcollege/natural-language-processing/master/data/en_reviews.csv', sep='\\t', header=None, names =['rating', 'text'])\n",
        "reviews[35:45]"
      ],
      "execution_count": 1,
      "outputs": [
        {
          "output_type": "execute_result",
          "data": {
            "text/html": [
              "<div>\n",
              "<style scoped>\n",
              "    .dataframe tbody tr th:only-of-type {\n",
              "        vertical-align: middle;\n",
              "    }\n",
              "\n",
              "    .dataframe tbody tr th {\n",
              "        vertical-align: top;\n",
              "    }\n",
              "\n",
              "    .dataframe thead th {\n",
              "        text-align: right;\n",
              "    }\n",
              "</style>\n",
              "<table border=\"1\" class=\"dataframe\">\n",
              "  <thead>\n",
              "    <tr style=\"text-align: right;\">\n",
              "      <th></th>\n",
              "      <th>rating</th>\n",
              "      <th>text</th>\n",
              "    </tr>\n",
              "  </thead>\n",
              "  <tbody>\n",
              "    <tr>\n",
              "      <th>35</th>\n",
              "      <td>5</td>\n",
              "      <td>I bought the cheapest tickets through this ser...</td>\n",
              "    </tr>\n",
              "    <tr>\n",
              "      <th>36</th>\n",
              "      <td>5</td>\n",
              "      <td>Such a pleasure to know that you will be prope...</td>\n",
              "    </tr>\n",
              "    <tr>\n",
              "      <th>37</th>\n",
              "      <td>5</td>\n",
              "      <td>I always use this website to look for flights ...</td>\n",
              "    </tr>\n",
              "    <tr>\n",
              "      <th>38</th>\n",
              "      <td>2</td>\n",
              "      <td>A startup that finds discount flight tickets '...</td>\n",
              "    </tr>\n",
              "    <tr>\n",
              "      <th>39</th>\n",
              "      <td>5</td>\n",
              "      <td>Excellent customer service, fast and kind. Wan...</td>\n",
              "    </tr>\n",
              "    <tr>\n",
              "      <th>40</th>\n",
              "      <td>4</td>\n",
              "      <td>very good service from Quan Costa to help me w...</td>\n",
              "    </tr>\n",
              "    <tr>\n",
              "      <th>41</th>\n",
              "      <td>3</td>\n",
              "      <td>.@Skypickercom Finds Cheap Flights 'Hidden' On...</td>\n",
              "    </tr>\n",
              "    <tr>\n",
              "      <th>42</th>\n",
              "      <td>5</td>\n",
              "      <td>I have a problem with my tickets skypicker don...</td>\n",
              "    </tr>\n",
              "    <tr>\n",
              "      <th>43</th>\n",
              "      <td>4</td>\n",
              "      <td>Even though it took a bit time untill an agent...</td>\n",
              "    </tr>\n",
              "    <tr>\n",
              "      <th>44</th>\n",
              "      <td>5</td>\n",
              "      <td>Today I had a great experience with one of Kiw...</td>\n",
              "    </tr>\n",
              "  </tbody>\n",
              "</table>\n",
              "</div>"
            ],
            "text/plain": [
              "    rating                                               text\n",
              "35       5  I bought the cheapest tickets through this ser...\n",
              "36       5  Such a pleasure to know that you will be prope...\n",
              "37       5  I always use this website to look for flights ...\n",
              "38       2  A startup that finds discount flight tickets '...\n",
              "39       5  Excellent customer service, fast and kind. Wan...\n",
              "40       4  very good service from Quan Costa to help me w...\n",
              "41       3  .@Skypickercom Finds Cheap Flights 'Hidden' On...\n",
              "42       5  I have a problem with my tickets skypicker don...\n",
              "43       4  Even though it took a bit time untill an agent...\n",
              "44       5  Today I had a great experience with one of Kiw..."
            ]
          },
          "metadata": {
            "tags": []
          },
          "execution_count": 1
        }
      ]
    },
    {
      "cell_type": "markdown",
      "metadata": {
        "id": "bSN587NSPWgN"
      },
      "source": [
        "## Preparation of train and test data sets\n",
        "Separate and rename target values."
      ]
    },
    {
      "cell_type": "code",
      "metadata": {
        "id": "duhdXlx4PWhT",
        "outputId": "bffa505c-5f46-4fb0-8a93-70f7de27c89a",
        "colab": {
          "base_uri": "https://localhost:8080/",
          "height": 221
        }
      },
      "source": [
        "target = reviews['rating']\n",
        "data = reviews['text']\n",
        "\n",
        "print(data[:5])\n",
        "print(target[:5])"
      ],
      "execution_count": 2,
      "outputs": [
        {
          "output_type": "stream",
          "text": [
            "0    A voucher to nowhere #skypickerfail 2400 out o...\n",
            "1    I booked with Kiwi for the first time, just a ...\n",
            "2    I would like to say THANKS YOU for your custom...\n",
            "3    I just noticed 2 hours before my flight that I...\n",
            "4    This is the first time I have dealt with Skypi...\n",
            "Name: text, dtype: object\n",
            "0    2\n",
            "1    5\n",
            "2    5\n",
            "3    5\n",
            "4    2\n",
            "Name: rating, dtype: int64\n"
          ],
          "name": "stdout"
        }
      ]
    },
    {
      "cell_type": "markdown",
      "metadata": {
        "id": "NunUCAyj_e1z"
      },
      "source": [
        "Set hyperparameters\n"
      ]
    },
    {
      "cell_type": "code",
      "metadata": {
        "id": "a7UStCfI_fZ9"
      },
      "source": [
        "vocab_size = 5000\n",
        "embedding_dim = 64\n",
        "max_length = 100\n",
        "trunc_type = 'post'\n",
        "padding_type = 'post'\n",
        "oov_tok = '<OOV>' # OOV = Out of Vocabulary"
      ],
      "execution_count": 3,
      "outputs": []
    },
    {
      "cell_type": "markdown",
      "metadata": {
        "id": "nrYMUnjiPWhy"
      },
      "source": [
        "Shuffle the data and split it to train and test parts."
      ]
    },
    {
      "cell_type": "code",
      "metadata": {
        "id": "XW2Hw-9dPWh0",
        "outputId": "5cf60096-09e7-47cb-c5af-b922f18af51b",
        "colab": {
          "base_uri": "https://localhost:8080/",
          "height": 51
        }
      },
      "source": [
        "from sklearn.model_selection import train_test_split\n",
        "\n",
        "X_train, X_test, y_train, y_test = train_test_split(data, target, test_size=0.1)\n",
        "print('Train size: {}'.format(len(X_train)))\n",
        "print('Test size: {}'.format(len(X_test)))"
      ],
      "execution_count": 4,
      "outputs": [
        {
          "output_type": "stream",
          "text": [
            "Train size: 7013\n",
            "Test size: 780\n"
          ],
          "name": "stdout"
        }
      ]
    },
    {
      "cell_type": "markdown",
      "metadata": {
        "id": "rm9cgym-r3X6"
      },
      "source": [
        "Tokenize reviews using the Keras tokenizer."
      ]
    },
    {
      "cell_type": "code",
      "metadata": {
        "id": "hFYq7g3sANte"
      },
      "source": [
        "from tensorflow.keras.preprocessing.text import Tokenizer\n",
        "from tensorflow.keras.preprocessing.sequence import pad_sequences\n",
        "\n",
        "tokenizer = Tokenizer(num_words = vocab_size, oov_token=oov_tok)\n",
        "tokenizer.fit_on_texts(X_train)\n",
        "X_train = tokenizer.texts_to_sequences(X_train)\n",
        "X_test= tokenizer.texts_to_sequences(X_test)"
      ],
      "execution_count": 5,
      "outputs": []
    },
    {
      "cell_type": "markdown",
      "metadata": {
        "id": "0Tx4pNehsMuY"
      },
      "source": [
        "Pad and truncate token sequences."
      ]
    },
    {
      "cell_type": "code",
      "metadata": {
        "id": "Y-vCY_pMAyK8"
      },
      "source": [
        "X_train = pad_sequences(X_train, maxlen=max_length, padding=padding_type, truncating=trunc_type)\n",
        "X_test = pad_sequences(X_test, maxlen=max_length, padding=padding_type, truncating=trunc_type)\n"
      ],
      "execution_count": 6,
      "outputs": []
    },
    {
      "cell_type": "markdown",
      "metadata": {
        "id": "WWCsriprsfcu"
      },
      "source": [
        "Encode target values to one-hot encoding."
      ]
    },
    {
      "cell_type": "code",
      "metadata": {
        "id": "4ioTxBcODz4q"
      },
      "source": [
        "from tensorflow.python.keras.utils import np_utils\n",
        "\n",
        "n_classes = 5\n",
        "y_train = np_utils.to_categorical(y_train-1, n_classes)\n",
        "y_test = np_utils.to_categorical(y_test-1, n_classes)"
      ],
      "execution_count": 7,
      "outputs": []
    },
    {
      "cell_type": "markdown",
      "metadata": {
        "id": "2N1S-_xKPWi4"
      },
      "source": [
        "## Model definition\n",
        "\n",
        "Define the neural network model. Word *embedding* and bidirectional LSTM are used."
      ]
    },
    {
      "cell_type": "code",
      "metadata": {
        "id": "3JHGLi52PWi5",
        "outputId": "d9b585fc-28ae-44e2-d5e4-53b918e82f60",
        "colab": {
          "base_uri": "https://localhost:8080/",
          "height": 289
        }
      },
      "source": [
        "from tensorflow.keras.models import Sequential\n",
        "from tensorflow.keras.layers import Dense, Flatten, LSTM, Dropout, Activation, Embedding, Bidirectional\n",
        "\n",
        "model = Sequential()\n",
        "model.add(Embedding(vocab_size, embedding_dim))\n",
        "model.add(Dropout(0.5))\n",
        "model.add(Bidirectional(LSTM(64)))\n",
        "model.add(Dense(5, activation=\"softmax\"))\n",
        "model.summary()"
      ],
      "execution_count": 8,
      "outputs": [
        {
          "output_type": "stream",
          "text": [
            "Model: \"sequential\"\n",
            "_________________________________________________________________\n",
            "Layer (type)                 Output Shape              Param #   \n",
            "=================================================================\n",
            "embedding (Embedding)        (None, None, 64)          320000    \n",
            "_________________________________________________________________\n",
            "dropout (Dropout)            (None, None, 64)          0         \n",
            "_________________________________________________________________\n",
            "bidirectional (Bidirectional (None, 128)               66048     \n",
            "_________________________________________________________________\n",
            "dense (Dense)                (None, 5)                 645       \n",
            "=================================================================\n",
            "Total params: 386,693\n",
            "Trainable params: 386,693\n",
            "Non-trainable params: 0\n",
            "_________________________________________________________________\n"
          ],
          "name": "stdout"
        }
      ]
    },
    {
      "cell_type": "markdown",
      "metadata": {
        "id": "Utl0v9djtAXH"
      },
      "source": [
        "## Model training"
      ]
    },
    {
      "cell_type": "code",
      "metadata": {
        "id": "5WVWpE9qEwsA"
      },
      "source": [
        "import tensorflow as tf\n",
        "optimizer = tf.keras.optimizers.Adam(learning_rate=0.001, weight_decay=1e-6)\n",
        "model.compile(loss=\"categorical_crossentropy\", optimizer=optimizer,\n",
        "    metrics=['accuracy'],\n",
        ")"
      ],
      "execution_count": 9,
      "outputs": []
    },
    {
      "cell_type": "code",
      "metadata": {
        "id": "0NM88EFrE3aS",
        "outputId": "6972e785-9373-4163-810e-594536f3222d",
        "colab": {
          "base_uri": "https://localhost:8080/",
          "height": 357
        }
      },
      "source": [
        "history = model.fit(X_train, y_train, epochs=10, validation_data=(X_test, y_test), verbose=1)"
      ],
      "execution_count": 10,
      "outputs": [
        {
          "output_type": "stream",
          "text": [
            "Epoch 1/10\n",
            "220/220 [==============================] - 4s 17ms/step - loss: 0.8643 - accuracy: 0.7142 - val_loss: 0.6266 - val_accuracy: 0.7987\n",
            "Epoch 2/10\n",
            "220/220 [==============================] - 3s 14ms/step - loss: 0.6292 - accuracy: 0.7850 - val_loss: 0.5890 - val_accuracy: 0.8064\n",
            "Epoch 3/10\n",
            "220/220 [==============================] - 3s 14ms/step - loss: 0.5670 - accuracy: 0.8038 - val_loss: 0.5704 - val_accuracy: 0.8205\n",
            "Epoch 4/10\n",
            "220/220 [==============================] - 3s 14ms/step - loss: 0.5102 - accuracy: 0.8205 - val_loss: 0.5768 - val_accuracy: 0.8282\n",
            "Epoch 5/10\n",
            "220/220 [==============================] - 3s 14ms/step - loss: 0.4589 - accuracy: 0.8367 - val_loss: 0.5903 - val_accuracy: 0.8051\n",
            "Epoch 6/10\n",
            "220/220 [==============================] - 3s 14ms/step - loss: 0.4125 - accuracy: 0.8527 - val_loss: 0.6346 - val_accuracy: 0.8103\n",
            "Epoch 7/10\n",
            "220/220 [==============================] - 3s 14ms/step - loss: 0.3952 - accuracy: 0.8615 - val_loss: 0.6256 - val_accuracy: 0.7859\n",
            "Epoch 8/10\n",
            "220/220 [==============================] - 3s 14ms/step - loss: 0.3472 - accuracy: 0.8805 - val_loss: 0.6590 - val_accuracy: 0.7795\n",
            "Epoch 9/10\n",
            "220/220 [==============================] - 3s 14ms/step - loss: 0.3179 - accuracy: 0.8898 - val_loss: 0.7124 - val_accuracy: 0.7885\n",
            "Epoch 10/10\n",
            "220/220 [==============================] - 3s 14ms/step - loss: 0.2857 - accuracy: 0.9029 - val_loss: 0.7143 - val_accuracy: 0.7705\n"
          ],
          "name": "stdout"
        }
      ]
    }
  ]
}
